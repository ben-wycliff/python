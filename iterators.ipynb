{
 "cells": [
  {
   "cell_type": "markdown",
   "id": "7e7c87df",
   "metadata": {},
   "source": [
    "# Python Iterators"
   ]
  },
  {
   "cell_type": "markdown",
   "id": "64e4ec75",
   "metadata": {},
   "source": [
    "<hr/>\n",
    "\n",
    "- An iterator is an object containing a countable number of values.\n",
    "- It can be iterated upon, implying that you can traverse through all the values.\n",
    "\n",
    "***Technically***\n",
    "- It is an object that implements the iterator protocol consisting of methods ***iter*** and ***next***."
   ]
  },
  {
   "cell_type": "markdown",
   "id": "54853db5",
   "metadata": {
    "heading_collapsed": true
   },
   "source": [
    "## Simple iterators"
   ]
  },
  {
   "cell_type": "markdown",
   "id": "792d661a",
   "metadata": {
    "heading_collapsed": true,
    "hidden": true
   },
   "source": [
    "### Arrays (Lists)"
   ]
  },
  {
   "cell_type": "code",
   "execution_count": 2,
   "id": "bdcec176",
   "metadata": {
    "code_folding": [
     0
    ],
    "hidden": true
   },
   "outputs": [
    {
     "name": "stdout",
     "output_type": "stream",
     "text": [
      "1\n",
      "2\n",
      "3\n",
      "4\n",
      "5\n"
     ]
    }
   ],
   "source": [
    "# iterating over a list\n",
    "for i in [1,2,3,4,5]:\n",
    "    print(i)"
   ]
  },
  {
   "cell_type": "markdown",
   "id": "2bbe9a7b",
   "metadata": {
    "heading_collapsed": true,
    "hidden": true
   },
   "source": [
    "### String"
   ]
  },
  {
   "cell_type": "code",
   "execution_count": 3,
   "id": "63d47d18",
   "metadata": {
    "hidden": true
   },
   "outputs": [
    {
     "name": "stdout",
     "output_type": "stream",
     "text": [
      "B\n",
      "e\n",
      "n\n",
      "W\n",
      "y\n",
      "c\n",
      "l\n",
      "i\n",
      "f\n",
      "f\n"
     ]
    }
   ],
   "source": [
    "# iterating over a string\n",
    "for i in \"BenWycliff\":\n",
    "    print(i)"
   ]
  },
  {
   "cell_type": "markdown",
   "id": "d13e14d5",
   "metadata": {
    "heading_collapsed": true,
    "hidden": true
   },
   "source": [
    "### tuples"
   ]
  },
  {
   "cell_type": "code",
   "execution_count": 4,
   "id": "9851c84e",
   "metadata": {
    "hidden": true
   },
   "outputs": [
    {
     "name": "stdout",
     "output_type": "stream",
     "text": [
      "1\n",
      "2\n",
      "3\n",
      "4\n"
     ]
    }
   ],
   "source": [
    "# iterating over a tuple\n",
    "for i in (1,2,3,4):\n",
    "    print(i)"
   ]
  },
  {
   "cell_type": "markdown",
   "id": "74fdc5cd",
   "metadata": {
    "heading_collapsed": true,
    "hidden": true
   },
   "source": [
    "### Sets"
   ]
  },
  {
   "cell_type": "code",
   "execution_count": 5,
   "id": "a33293db",
   "metadata": {
    "hidden": true
   },
   "outputs": [
    {
     "name": "stdout",
     "output_type": "stream",
     "text": [
      "1\n",
      "2\n",
      "3\n",
      "4\n"
     ]
    }
   ],
   "source": [
    "# iterating over a set\n",
    "for i in {1,1,1,2,3,4}:\n",
    "    print(i)"
   ]
  },
  {
   "cell_type": "markdown",
   "id": "5f754620",
   "metadata": {
    "hidden": true
   },
   "source": [
    "### Dictionary"
   ]
  },
  {
   "cell_type": "code",
   "execution_count": 7,
   "id": "c9467772",
   "metadata": {
    "hidden": true
   },
   "outputs": [
    {
     "name": "stdout",
     "output_type": "stream",
     "text": [
      "name\n",
      "college\n"
     ]
    }
   ],
   "source": [
    "# iterating over a dictionary (keys)\n",
    "for i in {\"name\": \"BEN\", \"college\": \"CEDAT\"}:\n",
    "    print(i)"
   ]
  },
  {
   "cell_type": "markdown",
   "id": "2dba9455",
   "metadata": {},
   "source": [
    "## How an iterator works"
   ]
  },
  {
   "cell_type": "markdown",
   "id": "778e9016",
   "metadata": {},
   "source": [
    "<p> <code>iter()</code> function; calls the <code>iter()</code> method, returns an iterator </p>\n",
    "<p> <code>next()</code> function is used to manually iterate through items of an iterator </p>\n",
    "<p> At the end of the iterator, next would result in the <code>StopIteration</code> Exception </p>"
   ]
  },
  {
   "cell_type": "markdown",
   "id": "7685195f",
   "metadata": {},
   "source": [
    "### creating and iterating through an iterator"
   ]
  },
  {
   "cell_type": "code",
   "execution_count": 9,
   "id": "f11b2732",
   "metadata": {},
   "outputs": [],
   "source": [
    "arr = [1,2,3,4]"
   ]
  },
  {
   "cell_type": "code",
   "execution_count": 10,
   "id": "c7607c11",
   "metadata": {},
   "outputs": [],
   "source": [
    "arr_iterator = iter(arr)"
   ]
  },
  {
   "cell_type": "code",
   "execution_count": 11,
   "id": "0191f776",
   "metadata": {},
   "outputs": [
    {
     "data": {
      "text/plain": [
       "1"
      ]
     },
     "execution_count": 11,
     "metadata": {},
     "output_type": "execute_result"
    }
   ],
   "source": [
    "next(arr_iterator)"
   ]
  },
  {
   "cell_type": "code",
   "execution_count": 12,
   "id": "95fdc95c",
   "metadata": {},
   "outputs": [
    {
     "data": {
      "text/plain": [
       "2"
      ]
     },
     "execution_count": 12,
     "metadata": {},
     "output_type": "execute_result"
    }
   ],
   "source": [
    "next(arr_iterator)"
   ]
  },
  {
   "cell_type": "code",
   "execution_count": 13,
   "id": "56e22a45",
   "metadata": {},
   "outputs": [
    {
     "data": {
      "text/plain": [
       "3"
      ]
     },
     "execution_count": 13,
     "metadata": {},
     "output_type": "execute_result"
    }
   ],
   "source": [
    "next(arr_iterator)"
   ]
  },
  {
   "cell_type": "code",
   "execution_count": 14,
   "id": "a024772c",
   "metadata": {},
   "outputs": [
    {
     "data": {
      "text/plain": [
       "4"
      ]
     },
     "execution_count": 14,
     "metadata": {},
     "output_type": "execute_result"
    }
   ],
   "source": [
    "next(arr_iterator)"
   ]
  },
  {
   "cell_type": "code",
   "execution_count": 15,
   "id": "66b00b11",
   "metadata": {},
   "outputs": [
    {
     "ename": "StopIteration",
     "evalue": "",
     "output_type": "error",
     "traceback": [
      "\u001b[0;31m---------------------------------------------------------------------------\u001b[0m",
      "\u001b[0;31mStopIteration\u001b[0m                             Traceback (most recent call last)",
      "Input \u001b[0;32mIn [15]\u001b[0m, in \u001b[0;36m<cell line: 1>\u001b[0;34m()\u001b[0m\n\u001b[0;32m----> 1\u001b[0m \u001b[38;5;28;43mnext\u001b[39;49m\u001b[43m(\u001b[49m\u001b[43marr_iterator\u001b[49m\u001b[43m)\u001b[49m\n",
      "\u001b[0;31mStopIteration\u001b[0m: "
     ]
    }
   ],
   "source": [
    "next(arr_iterator) # Stop Iteration exception"
   ]
  },
  {
   "cell_type": "code",
   "execution_count": null,
   "id": "8a4f7b35",
   "metadata": {},
   "outputs": [],
   "source": []
  }
 ],
 "metadata": {
  "kernelspec": {
   "display_name": "Python 3 (ipykernel)",
   "language": "python",
   "name": "python3"
  },
  "language_info": {
   "codemirror_mode": {
    "name": "ipython",
    "version": 3
   },
   "file_extension": ".py",
   "mimetype": "text/x-python",
   "name": "python",
   "nbconvert_exporter": "python",
   "pygments_lexer": "ipython3",
   "version": "3.8.8"
  },
  "toc": {
   "base_numbering": 1,
   "nav_menu": {},
   "number_sections": true,
   "sideBar": true,
   "skip_h1_title": false,
   "title_cell": "Table of Contents",
   "title_sidebar": "Contents",
   "toc_cell": false,
   "toc_position": {},
   "toc_section_display": true,
   "toc_window_display": true
  }
 },
 "nbformat": 4,
 "nbformat_minor": 5
}
