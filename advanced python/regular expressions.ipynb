{
 "cells": [
  {
   "cell_type": "markdown",
   "id": "1eb32d83",
   "metadata": {},
   "source": [
    "# Regular expressions (regex)\n",
    "\n",
    "<p> A regular expression is a sequence of characters that defines a search pattern </p>"
   ]
  },
  {
   "cell_type": "markdown",
   "id": "e75b3930",
   "metadata": {
    "heading_collapsed": true
   },
   "source": [
    "## Example 1"
   ]
  },
  {
   "cell_type": "markdown",
   "id": "d46d6665",
   "metadata": {
    "hidden": true
   },
   "source": [
    "**Pattern Recognintion**\n",
    "<p>Match five letter word that begins with <code>m</code> and ends with <code>y</code></p>"
   ]
  },
  {
   "cell_type": "code",
   "execution_count": 1,
   "id": "1558176c",
   "metadata": {
    "hidden": true
   },
   "outputs": [],
   "source": [
    "import re"
   ]
  },
  {
   "cell_type": "code",
   "execution_count": 2,
   "id": "4c75e954",
   "metadata": {
    "hidden": true
   },
   "outputs": [
    {
     "name": "stdout",
     "output_type": "stream",
     "text": [
      "Match passed\n"
     ]
    }
   ],
   "source": [
    "pattern = '^m...y$'\n",
    "test_string = \"money\"\n",
    "result = re.match(pattern, test_string)\n",
    "if result:\n",
    "    print(f\"Match passed\")\n",
    "else:\n",
    "    print(f\"Match failed\")"
   ]
  },
  {
   "cell_type": "markdown",
   "id": "6e61c837",
   "metadata": {},
   "source": [
    "# RegEx meta characters"
   ]
  },
  {
   "cell_type": "markdown",
   "id": "528c68e3",
   "metadata": {
    "heading_collapsed": true
   },
   "source": [
    "## square brackets (`[]`)\n",
    "Specifies a set of characters to match"
   ]
  },
  {
   "cell_type": "markdown",
   "id": "db1e9338",
   "metadata": {
    "heading_collapsed": true,
    "hidden": true
   },
   "source": [
    "### Match"
   ]
  },
  {
   "cell_type": "code",
   "execution_count": 3,
   "id": "11307221",
   "metadata": {
    "hidden": true
   },
   "outputs": [
    {
     "name": "stdout",
     "output_type": "stream",
     "text": [
      "None\n"
     ]
    }
   ],
   "source": [
    "pattern = r'[abc]'\n",
    "test_str = \"The product will cost us a lot of money\"\n",
    "result = re.match(pattern, test_str)\n",
    "print(result) # None -> match only checks the first character"
   ]
  },
  {
   "cell_type": "code",
   "execution_count": 4,
   "id": "cda2b46b",
   "metadata": {
    "hidden": true
   },
   "outputs": [
    {
     "name": "stdout",
     "output_type": "stream",
     "text": [
      "<re.Match object; span=(0, 1), match='c'>\n"
     ]
    }
   ],
   "source": [
    "test_str = \"caggo is a multi millionaire\"\n",
    "result= re.match(pattern, test_str)\n",
    "print(result)"
   ]
  },
  {
   "cell_type": "markdown",
   "id": "9f018ac4",
   "metadata": {
    "heading_collapsed": true,
    "hidden": true
   },
   "source": [
    "### Search"
   ]
  },
  {
   "cell_type": "code",
   "execution_count": 5,
   "id": "b30a8a93",
   "metadata": {
    "hidden": true
   },
   "outputs": [
    {
     "data": {
      "text/plain": [
       "<re.Match object; span=(9, 10), match='c'>"
      ]
     },
     "execution_count": 5,
     "metadata": {},
     "output_type": "execute_result"
    }
   ],
   "source": [
    "# to check the whole string, use search\n",
    "test_str = \"The product will cost us a lot of money\"\n",
    "re.search(pattern, test_str)\n",
    "# searches the whole string for first instance"
   ]
  },
  {
   "cell_type": "markdown",
   "id": "3e292fd9",
   "metadata": {
    "hidden": true
   },
   "source": [
    "### Findall"
   ]
  },
  {
   "cell_type": "code",
   "execution_count": 6,
   "id": "6f9a508d",
   "metadata": {
    "hidden": true
   },
   "outputs": [
    {
     "data": {
      "text/plain": [
       "['c', 'c', 'a']"
      ]
     },
     "execution_count": 6,
     "metadata": {},
     "output_type": "execute_result"
    }
   ],
   "source": [
    "# use findall to search for all instances\n",
    "test_str = \"The product will cost us a lot of money\"\n",
    "re.findall(pattern, test_str)"
   ]
  },
  {
   "cell_type": "markdown",
   "id": "f1a62b4b",
   "metadata": {
    "heading_collapsed": true
   },
   "source": [
    "## period (`.`)\n",
    "<p> Matches any single character </p>"
   ]
  },
  {
   "cell_type": "code",
   "execution_count": 8,
   "id": "f0672608",
   "metadata": {
    "hidden": true
   },
   "outputs": [],
   "source": [
    "re.search(r'..', 'a')"
   ]
  },
  {
   "cell_type": "code",
   "execution_count": 9,
   "id": "469c72e2",
   "metadata": {
    "hidden": true
   },
   "outputs": [
    {
     "data": {
      "text/plain": [
       "<re.Match object; span=(0, 2), match='ab'>"
      ]
     },
     "execution_count": 9,
     "metadata": {},
     "output_type": "execute_result"
    }
   ],
   "source": [
    "re.search(r'..', 'ab')"
   ]
  },
  {
   "cell_type": "code",
   "execution_count": 10,
   "id": "9221f31c",
   "metadata": {
    "hidden": true
   },
   "outputs": [
    {
     "data": {
      "text/plain": [
       "<re.Match object; span=(0, 2), match='ab'>"
      ]
     },
     "execution_count": 10,
     "metadata": {},
     "output_type": "execute_result"
    }
   ],
   "source": [
    "re.search(r'..', 'abc')"
   ]
  },
  {
   "cell_type": "code",
   "execution_count": 12,
   "id": "d4b47210",
   "metadata": {
    "hidden": true
   },
   "outputs": [
    {
     "data": {
      "text/plain": [
       "<re.Match object; span=(0, 2), match='ab'>"
      ]
     },
     "execution_count": 12,
     "metadata": {},
     "output_type": "execute_result"
    }
   ],
   "source": [
    "re.search(r'..','abcd')"
   ]
  },
  {
   "cell_type": "code",
   "execution_count": 13,
   "id": "c580af68",
   "metadata": {
    "hidden": true
   },
   "outputs": [
    {
     "data": {
      "text/plain": [
       "['ab', 'cd']"
      ]
     },
     "execution_count": 13,
     "metadata": {},
     "output_type": "execute_result"
    }
   ],
   "source": [
    "re.findall(r'..','abcd')"
   ]
  },
  {
   "cell_type": "markdown",
   "id": "31f496f9",
   "metadata": {},
   "source": [
    "## Caret (`^`)\n",
    "Checks if string starts with certain character or group of characters"
   ]
  },
  {
   "cell_type": "code",
   "execution_count": 19,
   "id": "c0c2b612",
   "metadata": {},
   "outputs": [
    {
     "name": "stdout",
     "output_type": "stream",
     "text": [
      "<re.Match object; span=(0, 1), match='a'>\n",
      "<re.Match object; span=(0, 2), match='ab'>\n",
      "<re.Match object; span=(0, 2), match='ab'>\n"
     ]
    }
   ],
   "source": [
    "print(re.search(r'^a', 'a'))\n",
    "print(re.search(r'^ab', 'abc'))\n",
    "print(re.search(r'^ab', \"abu is about abigail\"))"
   ]
  },
  {
   "cell_type": "markdown",
   "id": "9beda2bb",
   "metadata": {},
   "source": [
    "## Dollar (`$`)\n",
    "checks if string ends with particular character or groups of characters"
   ]
  },
  {
   "cell_type": "code",
   "execution_count": 20,
   "id": "495066d9",
   "metadata": {},
   "outputs": [
    {
     "name": "stdout",
     "output_type": "stream",
     "text": [
      "<re.Match object; span=(0, 1), match='a'>\n",
      "None\n",
      "<re.Match object; span=(19, 20), match='l'>\n"
     ]
    }
   ],
   "source": [
    "print(re.search(r'a', 'a'))\n",
    "print(re.search(r'ab$', 'abc'))\n",
    "print(re.search(r'l$', \"abu is about abigail\"))"
   ]
  },
  {
   "cell_type": "markdown",
   "id": "65d019f4",
   "metadata": {},
   "source": [
    "## Asterisk (`*`)\n",
    "Matches `0` or more occurences of the pattern left to it"
   ]
  },
  {
   "cell_type": "code",
   "execution_count": 33,
   "id": "b57adc90",
   "metadata": {},
   "outputs": [
    {
     "name": "stdout",
     "output_type": "stream",
     "text": [
      "None\n",
      "<re.Match object; span=(0, 2), match='mn'>\n",
      "<re.Match object; span=(0, 3), match='man'>\n",
      "<re.Match object; span=(0, 3), match='man'>\n",
      "None\n",
      "None\n"
     ]
    }
   ],
   "source": [
    "print(re.search(r'ma*n', 'an'))\n",
    "print(re.search(r'ma*n','mn'))\n",
    "print(re.search(r'ma*n', 'man'))\n",
    "print(re.search(r'ma*n', 'mann'))\n",
    "print(re.search(r'ma*n', 'main'))\n",
    "print(re.search(r'ma*n', 'mean'))"
   ]
  },
  {
   "cell_type": "markdown",
   "id": "c95e7275",
   "metadata": {},
   "source": [
    "## Plus (`+`)\n",
    "Matches `1` or more occurencesof the pattern left of it."
   ]
  },
  {
   "cell_type": "code",
   "execution_count": null,
   "id": "bedd399b",
   "metadata": {},
   "outputs": [],
   "source": []
  }
 ],
 "metadata": {
  "kernelspec": {
   "display_name": "Python 3 (ipykernel)",
   "language": "python",
   "name": "python3"
  },
  "language_info": {
   "codemirror_mode": {
    "name": "ipython",
    "version": 3
   },
   "file_extension": ".py",
   "mimetype": "text/x-python",
   "name": "python",
   "nbconvert_exporter": "python",
   "pygments_lexer": "ipython3",
   "version": "3.8.8"
  },
  "toc": {
   "base_numbering": 1,
   "nav_menu": {},
   "number_sections": true,
   "sideBar": true,
   "skip_h1_title": false,
   "title_cell": "Table of Contents",
   "title_sidebar": "Contents",
   "toc_cell": false,
   "toc_position": {
    "height": "calc(100% - 180px)",
    "left": "10px",
    "top": "150px",
    "width": "291.617px"
   },
   "toc_section_display": true,
   "toc_window_display": true
  }
 },
 "nbformat": 4,
 "nbformat_minor": 5
}
