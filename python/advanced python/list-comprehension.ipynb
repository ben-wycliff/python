{
 "cells": [
  {
   "cell_type": "markdown",
   "id": "f0b0d176",
   "metadata": {},
   "source": [
    "# List comprehension\n",
    "\n",
    "<p> Short syntax for creating a new list basing on values of an already existing list </p>"
   ]
  },
  {
   "cell_type": "code",
   "execution_count": 1,
   "id": "4cccd842",
   "metadata": {},
   "outputs": [
    {
     "data": {
      "text/plain": [
       "['labmorghini', 'Toyota']"
      ]
     },
     "execution_count": 1,
     "metadata": {},
     "output_type": "execute_result"
    }
   ],
   "source": [
    "cars = [\"bugatti\", \"labmorghini\", \"Ferari\", \"Tesla\", \"Toyota\"]\n",
    "\n",
    "cars_with_o = [car for car in cars if \"o\" in car]\n",
    "cars_with_o"
   ]
  },
  {
   "cell_type": "markdown",
   "id": "2242257f",
   "metadata": {},
   "source": [
    "## Iterating through a list using list comprehension"
   ]
  },
  {
   "cell_type": "code",
   "execution_count": 3,
   "id": "c3817760",
   "metadata": {},
   "outputs": [
    {
     "data": {
      "text/plain": [
       "['B', 'e', 'n', ' ', 'W', 'y', 'c', 'l', 'i', 'f', 'f']"
      ]
     },
     "execution_count": 3,
     "metadata": {},
     "output_type": "execute_result"
    }
   ],
   "source": [
    "name = \"Ben Wycliff\"\n",
    "name_letters = [i for i in name]\n",
    "name_letters"
   ]
  },
  {
   "cell_type": "markdown",
   "id": "f6309345",
   "metadata": {},
   "source": [
    "## Nested if with list comprehension "
   ]
  },
  {
   "cell_type": "code",
   "execution_count": 4,
   "id": "6c2a7f17",
   "metadata": {},
   "outputs": [
    {
     "data": {
      "text/plain": [
       "[20, 40]"
      ]
     },
     "execution_count": 4,
     "metadata": {},
     "output_type": "execute_result"
    }
   ],
   "source": [
    "[i for i in [20, 15, 12, 15, 40] if i%2 == 0 if i%5==0]"
   ]
  },
  {
   "cell_type": "markdown",
   "id": "9fc980df",
   "metadata": {},
   "source": [
    "## If..else with list comprehension"
   ]
  },
  {
   "cell_type": "code",
   "execution_count": 5,
   "id": "fc6f0da9",
   "metadata": {},
   "outputs": [
    {
     "data": {
      "text/plain": [
       "['odd', 'even', 'odd', 'even', 'odd', 'even']"
      ]
     },
     "execution_count": 5,
     "metadata": {},
     "output_type": "execute_result"
    }
   ],
   "source": [
    "[\"even\" if i%2 == 0 else \"odd\" for i in [1,2,3,4,5,6]]"
   ]
  },
  {
   "cell_type": "markdown",
   "id": "b9fd7722",
   "metadata": {},
   "source": [
    "# Set comprehension\n",
    "<p> Set comprehension works exactly like list comprehension </p>"
   ]
  },
  {
   "cell_type": "code",
   "execution_count": 6,
   "id": "eed6d0cc",
   "metadata": {},
   "outputs": [
    {
     "data": {
      "text/plain": [
       "{'even', 'odd'}"
      ]
     },
     "execution_count": 6,
     "metadata": {},
     "output_type": "execute_result"
    }
   ],
   "source": [
    "{\"even\" if i%2 == 0 else \"odd\" for i in [1,2,3,4,5,6]} # removes duplicates"
   ]
  },
  {
   "cell_type": "markdown",
   "id": "4f0ccb00",
   "metadata": {},
   "source": [
    "# Dictionary comprehension"
   ]
  },
  {
   "cell_type": "code",
   "execution_count": 8,
   "id": "304ddfe8",
   "metadata": {},
   "outputs": [
    {
     "data": {
      "text/plain": [
       "{'0_square': 0,\n",
       " '1_square': 1,\n",
       " '2_square': 4,\n",
       " '3_square': 9,\n",
       " '4_square': 16,\n",
       " '5_square': 25}"
      ]
     },
     "execution_count": 8,
     "metadata": {},
     "output_type": "execute_result"
    }
   ],
   "source": [
    "{str(i)+\"_square\": i**2 for i in range(6)}"
   ]
  },
  {
   "cell_type": "code",
   "execution_count": null,
   "id": "a89f6e79",
   "metadata": {},
   "outputs": [],
   "source": []
  }
 ],
 "metadata": {
  "kernelspec": {
   "display_name": "Python 3 (ipykernel)",
   "language": "python",
   "name": "python3"
  },
  "language_info": {
   "codemirror_mode": {
    "name": "ipython",
    "version": 3
   },
   "file_extension": ".py",
   "mimetype": "text/x-python",
   "name": "python",
   "nbconvert_exporter": "python",
   "pygments_lexer": "ipython3",
   "version": "3.8.8"
  },
  "toc": {
   "base_numbering": 1,
   "nav_menu": {},
   "number_sections": true,
   "sideBar": true,
   "skip_h1_title": false,
   "title_cell": "Table of Contents",
   "title_sidebar": "Contents",
   "toc_cell": false,
   "toc_position": {},
   "toc_section_display": true,
   "toc_window_display": true
  }
 },
 "nbformat": 4,
 "nbformat_minor": 5
}
