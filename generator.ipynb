{
 "cells": [
  {
   "cell_type": "markdown",
   "id": "01a1c061",
   "metadata": {},
   "source": [
    "# Python Generator"
   ]
  },
  {
   "cell_type": "markdown",
   "id": "18a3ead4",
   "metadata": {},
   "source": [
    "- Python enables  creation of custom ` iterator ` through a ` generator `"
   ]
  },
  {
   "cell_type": "markdown",
   "id": "3730c338",
   "metadata": {},
   "source": [
    "- In a generator function, the `yield` keyword is used inplace of ` return `\n",
    "- A generator retains the function state after returning"
   ]
  },
  {
   "cell_type": "markdown",
   "id": "2bc1b1b4",
   "metadata": {
    "heading_collapsed": true
   },
   "source": [
    "## Simple generator"
   ]
  },
  {
   "cell_type": "code",
   "execution_count": 1,
   "id": "bb70c717",
   "metadata": {
    "hidden": true
   },
   "outputs": [],
   "source": [
    "def myGenerator():\n",
    "    print('item1')\n",
    "    yield 10\n",
    "    print('item2')\n",
    "    yield 20\n",
    "    print('item3')\n",
    "    yield 30\n"
   ]
  },
  {
   "cell_type": "code",
   "execution_count": 2,
   "id": "a6903443",
   "metadata": {
    "hidden": true
   },
   "outputs": [],
   "source": [
    "gen = myGenerator()"
   ]
  },
  {
   "cell_type": "code",
   "execution_count": 3,
   "id": "bbf4083b",
   "metadata": {
    "hidden": true
   },
   "outputs": [
    {
     "name": "stdout",
     "output_type": "stream",
     "text": [
      "item1\n"
     ]
    },
    {
     "data": {
      "text/plain": [
       "10"
      ]
     },
     "execution_count": 3,
     "metadata": {},
     "output_type": "execute_result"
    }
   ],
   "source": [
    "next(gen)"
   ]
  },
  {
   "cell_type": "code",
   "execution_count": 4,
   "id": "b88ee2e6",
   "metadata": {
    "hidden": true
   },
   "outputs": [
    {
     "name": "stdout",
     "output_type": "stream",
     "text": [
      "item2\n"
     ]
    },
    {
     "data": {
      "text/plain": [
       "20"
      ]
     },
     "execution_count": 4,
     "metadata": {},
     "output_type": "execute_result"
    }
   ],
   "source": [
    "next(gen)"
   ]
  },
  {
   "cell_type": "code",
   "execution_count": 5,
   "id": "aa6149fb",
   "metadata": {
    "hidden": true
   },
   "outputs": [
    {
     "name": "stdout",
     "output_type": "stream",
     "text": [
      "item3\n"
     ]
    },
    {
     "data": {
      "text/plain": [
       "30"
      ]
     },
     "execution_count": 5,
     "metadata": {},
     "output_type": "execute_result"
    }
   ],
   "source": [
    "next(gen)"
   ]
  },
  {
   "cell_type": "code",
   "execution_count": 7,
   "id": "7272dd4f",
   "metadata": {
    "hidden": true
   },
   "outputs": [
    {
     "ename": "StopIteration",
     "evalue": "",
     "output_type": "error",
     "traceback": [
      "\u001b[0;31m---------------------------------------------------------------------------\u001b[0m",
      "\u001b[0;31mStopIteration\u001b[0m                             Traceback (most recent call last)",
      "Input \u001b[0;32mIn [7]\u001b[0m, in \u001b[0;36m<cell line: 1>\u001b[0;34m()\u001b[0m\n\u001b[0;32m----> 1\u001b[0m \u001b[38;5;28;43mnext\u001b[39;49m\u001b[43m(\u001b[49m\u001b[43mgen\u001b[49m\u001b[43m)\u001b[49m\n",
      "\u001b[0;31mStopIteration\u001b[0m: "
     ]
    }
   ],
   "source": [
    "next(gen) # StopIteration exception"
   ]
  },
  {
   "cell_type": "markdown",
   "id": "1e6eefc3",
   "metadata": {
    "heading_collapsed": true
   },
   "source": [
    "## For loop generator"
   ]
  },
  {
   "cell_type": "code",
   "execution_count": 9,
   "id": "4ba65f41",
   "metadata": {
    "hidden": true
   },
   "outputs": [],
   "source": [
    "def getSequenceUpTo(n: int):\n",
    "    for i in range(n):\n",
    "        yield i+1"
   ]
  },
  {
   "cell_type": "code",
   "execution_count": 10,
   "id": "a8cd405f",
   "metadata": {
    "hidden": true
   },
   "outputs": [],
   "source": [
    "gen2 = getSequenceUpTo(3)"
   ]
  },
  {
   "cell_type": "code",
   "execution_count": 11,
   "id": "c194a654",
   "metadata": {
    "hidden": true
   },
   "outputs": [
    {
     "data": {
      "text/plain": [
       "1"
      ]
     },
     "execution_count": 11,
     "metadata": {},
     "output_type": "execute_result"
    }
   ],
   "source": [
    "next(gen2)"
   ]
  },
  {
   "cell_type": "code",
   "execution_count": 12,
   "id": "5b3ae905",
   "metadata": {
    "hidden": true
   },
   "outputs": [
    {
     "data": {
      "text/plain": [
       "2"
      ]
     },
     "execution_count": 12,
     "metadata": {},
     "output_type": "execute_result"
    }
   ],
   "source": [
    "next(gen2)"
   ]
  },
  {
   "cell_type": "code",
   "execution_count": 14,
   "id": "a8c17b1d",
   "metadata": {
    "hidden": true
   },
   "outputs": [
    {
     "data": {
      "text/plain": [
       "3"
      ]
     },
     "execution_count": 14,
     "metadata": {},
     "output_type": "execute_result"
    }
   ],
   "source": [
    "next(gen2)"
   ]
  },
  {
   "cell_type": "code",
   "execution_count": 15,
   "id": "d470e527",
   "metadata": {
    "hidden": true
   },
   "outputs": [
    {
     "ename": "StopIteration",
     "evalue": "",
     "output_type": "error",
     "traceback": [
      "\u001b[0;31m---------------------------------------------------------------------------\u001b[0m",
      "\u001b[0;31mStopIteration\u001b[0m                             Traceback (most recent call last)",
      "Input \u001b[0;32mIn [15]\u001b[0m, in \u001b[0;36m<cell line: 1>\u001b[0;34m()\u001b[0m\n\u001b[0;32m----> 1\u001b[0m \u001b[38;5;28;43mnext\u001b[39;49m\u001b[43m(\u001b[49m\u001b[43mgen2\u001b[49m\u001b[43m)\u001b[49m\n",
      "\u001b[0;31mStopIteration\u001b[0m: "
     ]
    }
   ],
   "source": [
    "next(gen2)"
   ]
  },
  {
   "cell_type": "markdown",
   "id": "c0500d6f",
   "metadata": {},
   "source": [
    "## Fibonacci numbers generator"
   ]
  },
  {
   "cell_type": "code",
   "execution_count": 43,
   "id": "a368bac2",
   "metadata": {},
   "outputs": [],
   "source": [
    "def fibUpTo(n: int):\n",
    "    a, b = 0, 1\n",
    "    while a < n:\n",
    "        yield a\n",
    "        a, b = b, a+b"
   ]
  },
  {
   "cell_type": "code",
   "execution_count": 44,
   "id": "5d134baa",
   "metadata": {},
   "outputs": [],
   "source": [
    "fibonacci_gen = fibUpTo(6)"
   ]
  },
  {
   "cell_type": "code",
   "execution_count": 45,
   "id": "97a59b14",
   "metadata": {},
   "outputs": [
    {
     "data": {
      "text/plain": [
       "0"
      ]
     },
     "execution_count": 45,
     "metadata": {},
     "output_type": "execute_result"
    }
   ],
   "source": [
    "next(fibonacci_gen)"
   ]
  },
  {
   "cell_type": "code",
   "execution_count": 46,
   "id": "805d3663",
   "metadata": {},
   "outputs": [
    {
     "data": {
      "text/plain": [
       "1"
      ]
     },
     "execution_count": 46,
     "metadata": {},
     "output_type": "execute_result"
    }
   ],
   "source": [
    "next(fibonacci_gen)"
   ]
  },
  {
   "cell_type": "code",
   "execution_count": 47,
   "id": "45713c25",
   "metadata": {},
   "outputs": [
    {
     "data": {
      "text/plain": [
       "1"
      ]
     },
     "execution_count": 47,
     "metadata": {},
     "output_type": "execute_result"
    }
   ],
   "source": [
    "next(fibonacci_gen)"
   ]
  },
  {
   "cell_type": "code",
   "execution_count": 48,
   "id": "7d62faf9",
   "metadata": {},
   "outputs": [
    {
     "data": {
      "text/plain": [
       "2"
      ]
     },
     "execution_count": 48,
     "metadata": {},
     "output_type": "execute_result"
    }
   ],
   "source": [
    "next(fibonacci_gen)"
   ]
  },
  {
   "cell_type": "code",
   "execution_count": 49,
   "id": "0cf16134",
   "metadata": {},
   "outputs": [
    {
     "data": {
      "text/plain": [
       "3"
      ]
     },
     "execution_count": 49,
     "metadata": {},
     "output_type": "execute_result"
    }
   ],
   "source": [
    "next(fibonacci_gen)"
   ]
  },
  {
   "cell_type": "code",
   "execution_count": 50,
   "id": "81f397a2",
   "metadata": {},
   "outputs": [
    {
     "data": {
      "text/plain": [
       "5"
      ]
     },
     "execution_count": 50,
     "metadata": {},
     "output_type": "execute_result"
    }
   ],
   "source": [
    "next(fibonacci_gen)"
   ]
  },
  {
   "cell_type": "code",
   "execution_count": null,
   "id": "7309a097",
   "metadata": {},
   "outputs": [],
   "source": []
  },
  {
   "cell_type": "code",
   "execution_count": null,
   "id": "794a0225",
   "metadata": {},
   "outputs": [],
   "source": []
  }
 ],
 "metadata": {
  "kernelspec": {
   "display_name": "Python 3 (ipykernel)",
   "language": "python",
   "name": "python3"
  },
  "language_info": {
   "codemirror_mode": {
    "name": "ipython",
    "version": 3
   },
   "file_extension": ".py",
   "mimetype": "text/x-python",
   "name": "python",
   "nbconvert_exporter": "python",
   "pygments_lexer": "ipython3",
   "version": "3.8.8"
  },
  "toc": {
   "base_numbering": 1,
   "nav_menu": {},
   "number_sections": true,
   "sideBar": true,
   "skip_h1_title": false,
   "title_cell": "Table of Contents",
   "title_sidebar": "Contents",
   "toc_cell": false,
   "toc_position": {},
   "toc_section_display": true,
   "toc_window_display": true
  }
 },
 "nbformat": 4,
 "nbformat_minor": 5
}
